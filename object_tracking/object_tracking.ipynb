{
 "cells": [
  {
   "cell_type": "markdown",
   "metadata": {},
   "source": [
    "### ___Simple Object Tracking using OpenCV___"
   ]
  },
  {
   "cell_type": "code",
   "execution_count": 1,
   "metadata": {},
   "outputs": [],
   "source": [
    "#Import Necessary Libraries\n",
    "import cv2 as cv\n",
    "#---------------------------------------------------------------\n",
    "capture = cv.VideoCapture(\"cars_in_highway.mp4\")\n",
    "read, frame1 = capture.read()\n",
    "read, frame2 = capture.read()\n",
    "#---------------------------------------------------------------\n",
    "frame_width = int(capture.get(cv.CAP_PROP_FRAME_WIDTH))\n",
    "frame_height = int(capture.get(cv.CAP_PROP_FRAME_HEIGHT))\n",
    "fps = int(capture.get(cv.CAP_PROP_FPS))\n",
    "#---------------------------------------------------------------\n",
    "out = cv.VideoWriter('output_video.mp4', cv.VideoWriter_fourcc(*'mp4v'), fps, (frame_width, frame_height))\n",
    "#---------------------------------------------------------------\n",
    "while capture.isOpened():\n",
    "    #---------------------------------------------------------------\n",
    "    diff = cv.absdiff(frame1, frame2)\n",
    "    diff_gray = cv.cvtColor(diff, cv.COLOR_BGR2GRAY)\n",
    "    gaussian_blur_image = cv.GaussianBlur(diff_gray, (5, 5), cv.BORDER_DEFAULT)\n",
    "    _, thresh = cv.threshold(gaussian_blur_image, 20, 255, cv.THRESH_BINARY)\n",
    "    dilated_image = cv.dilate(thresh, None, iterations=3)\n",
    "    contours, _ = cv.findContours(dilated_image, cv.RETR_EXTERNAL, cv.CHAIN_APPROX_SIMPLE)\n",
    "    for contour in contours:\n",
    "        (x, y, w, h) = cv.boundingRect(contour)\n",
    "        if cv.contourArea(contour) < 400:\n",
    "            continue\n",
    "        if cv.contourArea(contour) >= 400:\n",
    "            rectangle = cv.rectangle(frame1, (x, y), (x + w, y + h), (0, 0, 255), 2)\n",
    "            cv.putText(frame1, \" Motion Tracking using OpenCV\", (10, 18), cv.FONT_HERSHEY_COMPLEX_SMALL, 0.8, (0, 0, 255), 2)\n",
    "            cv.putText(frame1, \" Banuprakash Vellingiri\", (10, 45), cv.FONT_HERSHEY_COMPLEX_SMALL, 0.6, (0, 0, 255), 2)\n",
    "    out.write(frame1)\n",
    "    cv.imshow('Video', frame1)\n",
    "    frame1 = frame2\n",
    "    read, frame2 = capture.read()\n",
    "    if read == False:\n",
    "        print(\"End of video stream.\")\n",
    "        break\n",
    "    if cv.waitKey(25) & 0xFF == ord('q'):\n",
    "        break\n",
    "#---------------------------------------------------------------\n",
    "capture.release()\n",
    "out.release()\n",
    "cv.destroyAllWindows()\n"
   ]
  }
 ],
 "metadata": {
  "kernelspec": {
   "display_name": "Python 3",
   "language": "python",
   "name": "python3"
  },
  "language_info": {
   "codemirror_mode": {
    "name": "ipython",
    "version": 3
   },
   "file_extension": ".py",
   "mimetype": "text/x-python",
   "name": "python",
   "nbconvert_exporter": "python",
   "pygments_lexer": "ipython3",
   "version": "3.11.4"
  }
 },
 "nbformat": 4,
 "nbformat_minor": 2
}
